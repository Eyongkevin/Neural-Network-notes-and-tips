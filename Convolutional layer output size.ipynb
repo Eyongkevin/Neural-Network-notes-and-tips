{
 "cells": [
  {
   "cell_type": "markdown",
   "metadata": {},
   "source": [
    "# Convolutional layer output size\n",
    "To get the size of output of a convolutional layer, We use the formula:\n",
    "\n",
    "`W=(W−F+2P)/S+1` and `H=(H−F+2P)/S+1`\n",
    "\n",
    "where `F` is the receptive field (filter width), `P` is the padding and `S` is the stride.\n",
    "but because tensor size are always of shape Width=height and slides are the same horizontally and vertically ie (2,2) and padding = 0. We see that the output size will be W=H. and it generalize to\n",
    "\n",
    "`output size = (W-F)/S +1`\n",
    "\n",
    "So let's consider the following model example, assuming a Tensor image of shape =(Width=Height=224)"
   ]
  },
  {
   "cell_type": "code",
   "execution_count": 2,
   "metadata": {
    "collapsed": true
   },
   "outputs": [],
   "source": [
    "\n",
    "def __init__(self):\n",
    "    super(Net, self).__init__()\n",
    "\n",
    "    self.conv1 = nn.Conv2d(1, 32, kernel_size=5, stride=1, padding=1), \n",
    "    self.conv2 = nn.Conv2d(32, 64, kernel_size=5, padding=1)\n",
    "    self.conv3 = nn.Conv2d(64, 128, kernel_size=5, padding=1),\n",
    "    \n",
    "    self.pool = nn.MaxPool2d(2, 2)\n",
    "\n",
    "    self.fc1 = nn.Linear(128*x*x, 500)\n",
    "    self.fc2 = nn.Linear(500, 272)\n",
    "    self.fc3 = nn.Linear(272, 136)\n",
    "\n",
    "# define the feedforward behavior\n",
    "def forward(self, x):\n",
    "\n",
    "    x = self.pool(F.relu(self.conv1(x)))       # 111\n",
    "    x = self.fc1_drop(x)\n",
    "\n",
    "    x = self.pool(F.relu(self.conv2(x)))       # 54\n",
    "    x = self.fc1_drop(x)\n",
    "\n",
    "    x = F.relu(self.conv3(x))                 # 52\n",
    "\n",
    "    # prep for linear layer\n",
    "    # flatten the inputs into a vector\n",
    "    x = x.view(x.size(0), -1)\n",
    "\n",
    "    # one linear layer\n",
    "    x = F.relu(self.fc1(x))\n",
    "\n",
    "    x = F.relu(self.fc2(x))\n",
    "    x = self.fc3(x)       \n",
    "    # final output\n",
    "    return x"
   ]
  },
  {
   "cell_type": "markdown",
   "metadata": {},
   "source": [
    "To get the value of **x** from the first linear function `self.fc1 = nn.Linear(128*x*x, 500)` above, we will do the following:\n",
    "\n",
    "\n",
    ">x = self.pool(F.relu(self.conv1(x)))\n",
    "\n",
    "We have: `(224-5+2*1)/1 +1  = 222/2  = 111` (We divide 222 by 2 due to the maxpool which was applied with stride 2)\n",
    "\n",
    ">x = self.pool(F.relu(self.conv2(x)))\n",
    "\n",
    "We have: `(111-5+2*1)/1 +1  = 109/2 = 54.5 = 54` (We take the whole number)\n",
    "\n",
    ">x = F.relu(self.conv3(x))\n",
    "\n",
    "We have: `(54-5+2*1)/1 +1  = 52`\n",
    "\n",
    "We see that `x = 52` and hence we have: `self.fc1 = nn.Linear(128*52*52, 500)`\n",
    "\n",
    "\n",
    "\n"
   ]
  },
  {
   "cell_type": "code",
   "execution_count": null,
   "metadata": {
    "collapsed": true
   },
   "outputs": [],
   "source": []
  }
 ],
 "metadata": {
  "kernelspec": {
   "display_name": "Python 3",
   "language": "python",
   "name": "python3"
  },
  "language_info": {
   "codemirror_mode": {
    "name": "ipython",
    "version": 3
   },
   "file_extension": ".py",
   "mimetype": "text/x-python",
   "name": "python",
   "nbconvert_exporter": "python",
   "pygments_lexer": "ipython3",
   "version": "3.6.2"
  }
 },
 "nbformat": 4,
 "nbformat_minor": 2
}
