{
 "cells": [
  {
   "cell_type": "markdown",
   "metadata": {},
   "source": [
    "## Data representation in neural networks\n",
    "In machine learning, most system uses **tensors** as basic data structure.\n",
    "\n",
    "**Def**: *Tensor is a container of data(mainly numbers).*\n",
    "\n",
    "Tensor are so fundamental to deep learning that Google's library **Tensorflow** was named after it.\n",
    "\n"
   ]
  },
  {
   "cell_type": "markdown",
   "metadata": {},
   "source": [
    "### Scalar (0D tensor)\n",
    "A tensor with only one number is called **scalar** or **scalar tensor** or **0-dimension tensor**, or **0D tensor**. In numpy a float32 and float64 is a scalar and it axis(dimension or rank) can be determine with `ndim`."
   ]
  },
  {
   "cell_type": "code",
   "execution_count": 4,
   "metadata": {},
   "outputs": [
    {
     "data": {
      "text/plain": [
       "0"
      ]
     },
     "execution_count": 4,
     "metadata": {},
     "output_type": "execute_result"
    }
   ],
   "source": [
    "import numpy as np\n",
    "t = np.array(4)     # create a scalar with value 4.\n",
    "t.ndim              # get numpy tensor axis(dimension or rank)"
   ]
  },
  {
   "cell_type": "markdown",
   "metadata": {
    "collapsed": true
   },
   "source": [
    "## Vector (1D tensor)\n",
    "An array of numbers(scalars) is called a vector or 1d tensor. A 1d tensor has 1 axis.\n",
    "\n",
    "We shouldn't confuse **nd tensor** and **nd vector**. An nd-vector has 1 axis with n dimension for the axis, why an nd-tensor has n-axis with any number of dimension for each axis."
   ]
  },
  {
   "cell_type": "code",
   "execution_count": 17,
   "metadata": {},
   "outputs": [
    {
     "name": "stdout",
     "output_type": "stream",
     "text": [
      "axis is  1\n",
      "dimension is  (4,)\n"
     ]
    }
   ],
   "source": [
    "import numpy as np\n",
    "t = np.array([3,45,76,2])                    # 1d tensor with 1-axis.\n",
    "print('axis is ',t.ndim)                     # 1d tensor with 4-dimension for the axis.           \n",
    "print('dimension is ',t.shape)"
   ]
  },
  {
   "cell_type": "markdown",
   "metadata": {},
   "source": [
    "## Matrices(2D tensor)\n",
    "An array of vectors is a **matrice** also known as **rectangular grid of numbers**. And it has **2-axis** usually (*row,column*)."
   ]
  },
  {
   "cell_type": "code",
   "execution_count": 16,
   "metadata": {},
   "outputs": [
    {
     "name": "stdout",
     "output_type": "stream",
     "text": [
      "axis is  2\n",
      "dimension is  (4, 4)\n"
     ]
    }
   ],
   "source": [
    "import numpy as np\n",
    "t = np.array([[3,45,76,2],\n",
    "            [3,45,76,2],\n",
    "            [3,45,76,2],\n",
    "             [3,45,76,2]])\n",
    "\n",
    "print('axis is ',t.ndim)                     # 2d tensor ie row,column.           \n",
    "print('dimension is ',t.shape)"
   ]
  },
  {
   "cell_type": "markdown",
   "metadata": {},
   "source": [
    "## 3D tensor and High-dimensional tensors\n",
    "An array of matrices yeild a **3D tensor** which is refer to as a **cube of numbers**. And an array of 3D tensor yeild **4D tensors** and so forth. Normally, we will see 0-4D tensors unless we are working with videos which has 5D"
   ]
  },
  {
   "cell_type": "code",
   "execution_count": 15,
   "metadata": {},
   "outputs": [
    {
     "name": "stdout",
     "output_type": "stream",
     "text": [
      "axis is  3\n",
      "dimension is  (3, 3, 5)\n"
     ]
    }
   ],
   "source": [
    "import numpy as np\n",
    "t = np.array([[[5, 78, 2, 34, 0],\n",
    "                [6, 79, 3, 35, 1],\n",
    "                [7, 80, 4, 36, 2]],\n",
    "              \n",
    "                [[5, 78, 2, 34, 0],\n",
    "                [6, 79, 3, 35, 1],\n",
    "                [7, 80, 4, 36, 2]],\n",
    "              \n",
    "                [[5, 78, 2, 34, 0],\n",
    "                [6, 79, 3, 35, 1],\n",
    "                [7, 80, 4, 36, 2]]])\n",
    "print('axis is ',t.ndim)                     # 3d tensor         \n",
    "print('dimension is ',t.shape)"
   ]
  },
  {
   "cell_type": "markdown",
   "metadata": {},
   "source": [
    "### Conclusion\n",
    "Think about it like this. If you have a vector, indexing into the vector gives you a scalar. If you have a matrix, indexing into the matrix gives you a vector. If you have a 3D tensor, then indexing into the tensor gives you a matrix!"
   ]
  },
  {
   "cell_type": "code",
   "execution_count": null,
   "metadata": {
    "collapsed": true
   },
   "outputs": [],
   "source": []
  }
 ],
 "metadata": {
  "kernelspec": {
   "display_name": "Python 3",
   "language": "python",
   "name": "python3"
  },
  "language_info": {
   "codemirror_mode": {
    "name": "ipython",
    "version": 3
   },
   "file_extension": ".py",
   "mimetype": "text/x-python",
   "name": "python",
   "nbconvert_exporter": "python",
   "pygments_lexer": "ipython3",
   "version": "3.6.2"
  }
 },
 "nbformat": 4,
 "nbformat_minor": 2
}
